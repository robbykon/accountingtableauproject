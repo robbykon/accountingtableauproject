{
 "cells": [
  {
   "cell_type": "markdown",
   "metadata": {},
   "source": [
    "Import pandas as pd (alias of pandas) and numpy as np (alias of numpy) libraries, which are useful for data wrangling"
   ]
  },
  {
   "cell_type": "code",
   "execution_count": 1,
   "metadata": {},
   "outputs": [],
   "source": [
    "import pandas as pd\n",
    "import numpy as np"
   ]
  },
  {
   "cell_type": "markdown",
   "metadata": {},
   "source": [
    "Upload the FPDATAWINS.xlsx as a dataframe df, using a read_excel function from pandas (pd). Note that we need specify header=0.\n",
    "Use your own file destination. Note that the file path should be specified by slashes not backslashes."
   ]
  },
  {
   "cell_type": "code",
   "execution_count": 2,
   "metadata": {},
   "outputs": [],
   "source": [
    "df = pd.read_excel(\"C:/Users/Robby Konrath/FPDATAWINS.xlsx\", header=0)"
   ]
  },
  {
   "cell_type": "markdown",
   "metadata": {},
   "source": [
    "Restrict year to be greater than or equal to 2000. Check the first five rows. "
   ]
  },
  {
   "cell_type": "code",
   "execution_count": 3,
   "metadata": {},
   "outputs": [
    {
     "name": "stdout",
     "output_type": "stream",
     "text": [
      "              Company_name  Year                     CEO_name  Totalcomp  \\\n",
      "0   ADVANCED MICRO DEVICES  2000  Walter Jeremiah Sanders III  26928.181   \n",
      "1                AMGEN INC  2000              Kevin W. Sharer  39961.866   \n",
      "2  BRISTOL-MYERS SQUIBB CO  2000     Charles A. Heimbold, Jr.  20981.499   \n",
      "3              TARGET CORP  2000             Robert J. Ulrich  15711.239   \n",
      "4            FORD MOTOR CO  2000            Jacques A. Nasser  22206.834   \n",
      "\n",
      "       Assets       Cash  NI_bfextra       Sales industry  Return_Mktadj  \\\n",
      "0    4377.698    596.511     -88.936    2857.604  Electro      -0.254813   \n",
      "1    4077.600   1333.000    1096.400    3340.100  Pharmac       1.045011   \n",
      "2   17114.000   2957.000    4167.000   20222.000  Pharmac      -0.280815   \n",
      "3   17143.000    220.000    1185.000   33702.000   Retail      -0.118600   \n",
      "4  276229.000  25173.000    7237.000  162558.000  Automob      -0.313637   \n",
      "\n",
      "        ROA         Mktcap         MB       LEV  Sales_growth  \n",
      "0 -0.020316    4301.733000   2.173390  0.326035      1.124093  \n",
      "1  0.268884   61137.618750  20.220810  0.054689      1.228791  \n",
      "2  0.243485  127142.985125  14.707112  0.078415      1.105994  \n",
      "3  0.069124   30028.525875   5.122574  0.263723      1.088882  \n",
      "4  0.026199   64348.187500   2.336790  0.285032      1.125623  \n"
     ]
    }
   ],
   "source": [
    "df = df[df.Year >= 2000]\n",
    "print(df.head())"
   ]
  },
  {
   "cell_type": "markdown",
   "metadata": {},
   "source": [
    "Check the shape of the data. "
   ]
  },
  {
   "cell_type": "code",
   "execution_count": 4,
   "metadata": {},
   "outputs": [
    {
     "name": "stdout",
     "output_type": "stream",
     "text": [
      "(286, 15)\n"
     ]
    }
   ],
   "source": [
    "print(df.shape)"
   ]
  },
  {
   "cell_type": "markdown",
   "metadata": {},
   "source": [
    "check the data using info method. "
   ]
  },
  {
   "cell_type": "code",
   "execution_count": 5,
   "metadata": {},
   "outputs": [
    {
     "name": "stdout",
     "output_type": "stream",
     "text": [
      "<class 'pandas.core.frame.DataFrame'>\n",
      "Int64Index: 286 entries, 0 to 285\n",
      "Data columns (total 15 columns):\n",
      "Company_name     286 non-null object\n",
      "Year             286 non-null int64\n",
      "CEO_name         286 non-null object\n",
      "Totalcomp        286 non-null float64\n",
      "Assets           286 non-null float64\n",
      "Cash             286 non-null float64\n",
      "NI_bfextra       286 non-null float64\n",
      "Sales            286 non-null float64\n",
      "industry         286 non-null object\n",
      "Return_Mktadj    286 non-null float64\n",
      "ROA              286 non-null float64\n",
      "Mktcap           286 non-null float64\n",
      "MB               286 non-null float64\n",
      "LEV              285 non-null float64\n",
      "Sales_growth     286 non-null float64\n",
      "dtypes: float64(11), int64(1), object(3)\n",
      "memory usage: 35.8+ KB\n",
      "None\n"
     ]
    }
   ],
   "source": [
    "print(df.info())"
   ]
  },
  {
   "cell_type": "markdown",
   "metadata": {},
   "source": [
    "Describe variables"
   ]
  },
  {
   "cell_type": "code",
   "execution_count": 6,
   "metadata": {},
   "outputs": [
    {
     "name": "stdout",
     "output_type": "stream",
     "text": [
      "              Year      Totalcomp         Assets           Cash    NI_bfextra  \\\n",
      "count   286.000000     286.000000     286.000000     286.000000    286.000000   \n",
      "mean   2008.517483   15656.782189   83251.229224   14696.691794   5118.487136   \n",
      "std       5.242677   14879.667178   85614.031427   17747.020350   6197.747469   \n",
      "min    2000.000000      42.945000    1637.547000     220.000000 -43297.000000   \n",
      "25%    2004.000000    7312.876500   21010.000000    3277.909750   1493.750000   \n",
      "50%    2008.000000   13987.973500   47488.600000    7844.000000   3696.000000   \n",
      "75%    2013.000000   19090.341500  114490.750000   20502.500000   8252.750000   \n",
      "max    2018.000000  108295.023000  479921.000000  132981.000000  23150.000000   \n",
      "\n",
      "               Sales  Return_Mktadj         ROA         Mktcap          MB  \\\n",
      "count     286.000000     286.000000  286.000000     286.000000  286.000000   \n",
      "mean    73661.919724       0.063096    0.074449  108588.427356    4.882631   \n",
      "std     92253.824530       0.514216    0.101142   93575.823221   11.828921   \n",
      "min      1639.839000      -0.713166   -0.660965    1315.440000  -94.371052   \n",
      "25%     17934.500000      -0.171725    0.047019   38000.921970    2.528673   \n",
      "50%     42391.276000      -0.019382    0.078464   76472.316438    3.639784   \n",
      "75%     89095.250000       0.173771    0.117667  165530.400000    5.781952   \n",
      "max    483521.000000       4.683748    0.481526  531312.440000   98.674785   \n",
      "\n",
      "              LEV  Sales_growth  \n",
      "count  285.000000    286.000000  \n",
      "mean     0.208605      1.078787  \n",
      "std      0.170912      0.176225  \n",
      "min      0.000000      0.434172  \n",
      "25%      0.088339      0.991465  \n",
      "50%      0.194415      1.060352  \n",
      "75%      0.283402      1.129422  \n",
      "max      1.316685      2.688278  \n"
     ]
    }
   ],
   "source": [
    "print(df.describe())"
   ]
  },
  {
   "cell_type": "markdown",
   "metadata": {},
   "source": [
    "Create log_Totalcomp, log_Assets, and log_Cash. \n",
    "Natural log in Python is np.log(), which belongs to the numpy package. We included numpy package earlier."
   ]
  },
  {
   "cell_type": "code",
   "execution_count": 7,
   "metadata": {},
   "outputs": [],
   "source": [
    "df['Log_Totalcomp'] = np.log(df.Totalcomp)\n",
    "df['Log_Assets'] = np.log(df.Assets)\n",
    "df['Log_Cash'] = np.log(df.Cash)"
   ]
  },
  {
   "cell_type": "markdown",
   "metadata": {},
   "source": [
    "import statsmodels package for OLS regression"
   ]
  },
  {
   "cell_type": "code",
   "execution_count": 8,
   "metadata": {},
   "outputs": [],
   "source": [
    "import statsmodels.formula.api as sm"
   ]
  },
  {
   "cell_type": "markdown",
   "metadata": {},
   "source": [
    "Run regression on years 2000 to 2016 (create df_0016) and use the regression result to predict Year 2017 (create df_17)."
   ]
  },
  {
   "cell_type": "code",
   "execution_count": 9,
   "metadata": {},
   "outputs": [],
   "source": [
    "df_0016 = df[(df.Year >= 2000) & (df.Year <= 2016)]\n",
    "df_17 = df[df.Year == 2017]"
   ]
  },
  {
   "cell_type": "code",
   "execution_count": 10,
   "metadata": {},
   "outputs": [],
   "source": [
    "result = sm.ols(formula = \"Log_Totalcomp ~ Log_Assets + MB + LEV + ROA + Sales_growth + Log_Cash + Return_Mktadj\", data=df_0016).fit()"
   ]
  },
  {
   "cell_type": "markdown",
   "metadata": {},
   "source": [
    "Review regression coefficients and other statistics."
   ]
  },
  {
   "cell_type": "code",
   "execution_count": 11,
   "metadata": {
    "scrolled": true
   },
   "outputs": [
    {
     "name": "stdout",
     "output_type": "stream",
     "text": [
      "                            OLS Regression Results                            \n",
      "==============================================================================\n",
      "Dep. Variable:          Log_Totalcomp   R-squared:                       0.305\n",
      "Model:                            OLS   Adj. R-squared:                  0.286\n",
      "Method:                 Least Squares   F-statistic:                     16.30\n",
      "Date:                Sat, 09 Mar 2019   Prob (F-statistic):           9.16e-18\n",
      "Time:                        16:21:45   Log-Likelihood:                -385.61\n",
      "No. Observations:                 268   AIC:                             787.2\n",
      "Df Residuals:                     260   BIC:                             816.0\n",
      "Df Model:                           7                                         \n",
      "Covariance Type:            nonrobust                                         \n",
      "=================================================================================\n",
      "                    coef    std err          t      P>|t|      [0.025      0.975]\n",
      "---------------------------------------------------------------------------------\n",
      "Intercept         7.1875      0.818      8.784      0.000       5.576       8.799\n",
      "Log_Assets        0.6457      0.083      7.734      0.000       0.481       0.810\n",
      "MB               -0.0102      0.006     -1.791      0.074      -0.021       0.001\n",
      "LEV              -0.0417      0.495     -0.084      0.933      -1.016       0.933\n",
      "ROA               1.6633      0.850      1.956      0.052      -0.011       3.338\n",
      "Sales_growth     -1.1142      0.384     -2.903      0.004      -1.870      -0.358\n",
      "Log_Cash         -0.4243      0.081     -5.228      0.000      -0.584      -0.265\n",
      "Return_Mktadj    -0.1721      0.135     -1.277      0.203      -0.437       0.093\n",
      "==============================================================================\n",
      "Omnibus:                       46.516   Durbin-Watson:                   1.967\n",
      "Prob(Omnibus):                  0.000   Jarque-Bera (JB):              117.314\n",
      "Skew:                          -0.799   Prob(JB):                     3.35e-26\n",
      "Kurtosis:                       5.820   Cond. No.                         242.\n",
      "==============================================================================\n",
      "\n",
      "Warnings:\n",
      "[1] Standard Errors assume that the covariance matrix of the errors is correctly specified.\n"
     ]
    }
   ],
   "source": [
    "print(result.summary())"
   ]
  },
  {
   "cell_type": "markdown",
   "metadata": {},
   "source": [
    "Calculate the predicted value for Year 2017, using df_17"
   ]
  },
  {
   "cell_type": "code",
   "execution_count": 12,
   "metadata": {},
   "outputs": [
    {
     "name": "stdout",
     "output_type": "stream",
     "text": [
      "                Company_name  Year                CEO_name  Totalcomp  \\\n",
      "269   ADVANCED MICRO DEVICES  2017              Lisa T. Su  10894.820   \n",
      "270                AMGEN INC  2017       Robert A. Bradway   4900.003   \n",
      "271  BRISTOL-MYERS SQUIBB CO  2017        Giovanni Caforio  18687.123   \n",
      "272              TARGET CORP  2017        Brian C. Cornell   8399.210   \n",
      "273            FORD MOTOR CO  2017  William Clay Ford, Jr.   4167.541   \n",
      "\n",
      "       Assets     Cash  NI_bfextra     Sales industry  Return_Mktadj  \\\n",
      "269    3321.0   1264.0      -497.0    4272.0  Electro       2.824487   \n",
      "270   77626.0  38085.0      7722.0   22991.0  Pharmac      -0.202224   \n",
      "271   33707.0   6350.0      4457.0   19427.0  Pharmac      -0.256914   \n",
      "272   37431.0   2512.0      2669.0   69495.0   Retail      -0.302540   \n",
      "273  237951.0  38827.0      4596.0  151800.0  Automob      -0.204867   \n",
      "\n",
      "          ROA        Mktcap         MB       LEV  Sales_growth  Log_Totalcomp  \\\n",
      "269 -0.149654   10602.90000  25.487740  0.432099      1.070408       9.296043   \n",
      "270  0.099477  107932.22200   3.612794  0.388955      1.061352       8.496991   \n",
      "271  0.132228   97711.68000   6.040161  0.169579      1.173128       9.835590   \n",
      "272  0.071305   35860.93888   3.274075  0.294702      0.941858       9.035893   \n",
      "273  0.019315   48208.22261   1.652664  0.392102      1.014991       8.335081   \n",
      "\n",
      "     Log_Assets   Log_Cash  \n",
      "269    8.108021   7.142037  \n",
      "270   11.259658  10.547576  \n",
      "271   10.425461   8.756210  \n",
      "272   10.530255   7.828835  \n",
      "273   12.379820  10.566871  \n"
     ]
    }
   ],
   "source": [
    "print(df_17.head())"
   ]
  },
  {
   "cell_type": "code",
   "execution_count": 13,
   "metadata": {
    "scrolled": false
   },
   "outputs": [
    {
     "name": "stderr",
     "output_type": "stream",
     "text": [
      "C:\\Users\\Robby Konrath\\Documents\\Python\\lib\\site-packages\\ipykernel_launcher.py:2: SettingWithCopyWarning: \n",
      "A value is trying to be set on a copy of a slice from a DataFrame.\n",
      "Try using .loc[row_indexer,col_indexer] = value instead\n",
      "\n",
      "See the caveats in the documentation: http://pandas.pydata.org/pandas-docs/stable/indexing.html#indexing-view-versus-copy\n",
      "  \n"
     ]
    },
    {
     "name": "stdout",
     "output_type": "stream",
     "text": [
      "                Company_name  Year  Totalcomp  Totalcomp_predict  \\\n",
      "269   ADVANCED MICRO DEVICES  2017  10894.820        1323.161369   \n",
      "270                AMGEN INC  2017   4900.003        7683.997336   \n",
      "271  BRISTOL-MYERS SQUIBB CO  2017  18687.123        8885.973634   \n",
      "272              TARGET CORP  2017   8399.210       16991.771098   \n",
      "273            FORD MOTOR CO  2017   4167.541       14772.761876   \n",
      "\n",
      "     Totalcomp_error  \n",
      "269      9571.658631  \n",
      "270     -2783.994336  \n",
      "271      9801.149366  \n",
      "272     -8592.561098  \n",
      "273    -10605.220876  \n"
     ]
    },
    {
     "name": "stderr",
     "output_type": "stream",
     "text": [
      "C:\\Users\\Robby Konrath\\Documents\\Python\\lib\\site-packages\\ipykernel_launcher.py:3: SettingWithCopyWarning: \n",
      "A value is trying to be set on a copy of a slice from a DataFrame.\n",
      "Try using .loc[row_indexer,col_indexer] = value instead\n",
      "\n",
      "See the caveats in the documentation: http://pandas.pydata.org/pandas-docs/stable/indexing.html#indexing-view-versus-copy\n",
      "  This is separate from the ipykernel package so we can avoid doing imports until\n"
     ]
    }
   ],
   "source": [
    "Log_Totalcomp_predict = result.predict(df_17)\n",
    "df_17['Totalcomp_predict'] = np.exp(Log_Totalcomp_predict)\n",
    "df_17['Totalcomp_error'] = df_17.Totalcomp - df_17.Totalcomp_predict\n",
    "Comp_predict = df_17.loc[:, ['Company_name', 'Year', 'Totalcomp', 'Totalcomp_predict', 'Totalcomp_error']]\n",
    "print(Comp_predict.head())\n"
   ]
  },
  {
   "cell_type": "markdown",
   "metadata": {},
   "source": [
    "Save Comp_predict dataframe into an excel file."
   ]
  },
  {
   "cell_type": "code",
   "execution_count": 14,
   "metadata": {},
   "outputs": [],
   "source": [
    "Comp_predict.to_excel('C:/Users/Robby Konrath/Comp_predict.xlsx')"
   ]
  },
  {
   "cell_type": "code",
   "execution_count": null,
   "metadata": {},
   "outputs": [],
   "source": []
  }
 ],
 "metadata": {
  "kernelspec": {
   "display_name": "Python 3",
   "language": "python",
   "name": "python3"
  },
  "language_info": {
   "codemirror_mode": {
    "name": "ipython",
    "version": 3
   },
   "file_extension": ".py",
   "mimetype": "text/x-python",
   "name": "python",
   "nbconvert_exporter": "python",
   "pygments_lexer": "ipython3",
   "version": "3.7.1"
  }
 },
 "nbformat": 4,
 "nbformat_minor": 2
}
